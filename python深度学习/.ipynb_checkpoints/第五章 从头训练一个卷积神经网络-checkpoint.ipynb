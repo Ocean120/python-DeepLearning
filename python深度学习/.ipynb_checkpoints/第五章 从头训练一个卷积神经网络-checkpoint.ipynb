{
 "cells": [
  {
   "cell_type": "markdown",
   "metadata": {},
   "source": [
    "## 1、创建新数据集"
   ]
  },
  {
   "cell_type": "code",
   "execution_count": 1,
   "metadata": {
    "collapsed": true
   },
   "outputs": [],
   "source": [
    "import os,shutil\n",
    "\n",
    "oritinal_dataset_dir='F:/kaggleDATA/dogs-vs-cats//train'\n",
    "base_dir='F:/kaggleDATA/dogs-vs-cats(new)'\n",
    "\n",
    "os.mkdir(base_dir)\n",
    "\n",
    "# 分别对应划分后的训练、验证和测试的目录\n",
    "train_dir=os.path.join(base_dir,'train')\n",
    "os.mkdir(train_dir)\n",
    "validation_dir=os.path.join(base_dir,'validation')\n",
    "os.mkdir(validation_dir)\n",
    "test_dir=os.path.join(base_dir,'test')\n",
    "os.mkdir(test_dir)\n",
    "\n",
    "# 猫和狗的训练图像目录\n",
    "train_cats_dir=os.path.join(train_dir,'cats')\n",
    "os.mkdir(train_cats_dir)\n",
    "train_dogs_dir=os.path.join(train_dir,'dogs')\n",
    "os.mkdir(train_dogs_dir)\n",
    "# 猫和狗的验证图像目录\n",
    "validation_cats_dir=os.path.join(validation_dir,'cats')\n",
    "os.mkdir(validation_cats_dir)\n",
    "validation_dogs_dir=os.path.join(validation_dir,'dogs')\n",
    "os.mkdir(validation_dogs_dir)\n",
    "# 猫和狗的测试图像目录\n",
    "test_cats_dir=os.path.join(test_dir,'cats')\n",
    "os.mkdir(test_cats_dir)\n",
    "test_dogs_dir=os.path.join(test_dir,'dogs')\n",
    "os.mkdir(test_dogs_dir)"
   ]
  },
  {
   "cell_type": "code",
   "execution_count": 2,
   "metadata": {
    "collapsed": true
   },
   "outputs": [],
   "source": [
    "# 将前1000张猫的图像复制到train_cats_dir\n",
    "fnames=['cat.{}.jpg'.format(i)for i in range(1000)]\n",
    "for fname in fnames:\n",
    "    src=os.path.join(oritinal_dataset_dir,fname)\n",
    "    dst=os.path.join(train_cats_dir,fname)\n",
    "    shutil.copyfile(src,dst)\n",
    "    \n",
    "# 将接下来的500张猫的图像复制到validation_cats_dir\n",
    "fnames=['cat.{}.jpg'.format(i)for i in range(1000,1500)]\n",
    "for fname in fnames:\n",
    "    src=os.path.join(oritinal_dataset_dir,fname)\n",
    "    dst=os.path.join(validation_cats_dir,fname)\n",
    "    shutil.copyfile(src,dst)\n",
    "    \n",
    "# 将接下来的500张猫的图像复制到test_cats_dir\n",
    "fnames=['cat.{}.jpg'.format(i)for i in range(1500,2000)]\n",
    "for fname in fnames:\n",
    "    src=os.path.join(oritinal_dataset_dir,fname)\n",
    "    dst=os.path.join(test_cats_dir,fname)\n",
    "    shutil.copyfile(src,dst)\n",
    "    \n",
    "# 将前1000张狗的图像复制到train_dogs_dir\n",
    "fnames=['dog.{}.jpg'.format(i)for i in range(1000)]\n",
    "for fname in fnames:\n",
    "    src=os.path.join(oritinal_dataset_dir,fname)\n",
    "    dst=os.path.join(train_dogs_dir,fname)\n",
    "    shutil.copyfile(src,dst)\n",
    "    \n",
    "# 将接下来的500张狗的图像复制到validation_dogs_dir\n",
    "fnames=['dog.{}.jpg'.format(i)for i in range(1000,1500)]\n",
    "for fname in fnames:\n",
    "    src=os.path.join(oritinal_dataset_dir,fname)\n",
    "    dst=os.path.join(validation_dogs_dir,fname)\n",
    "    shutil.copyfile(src,dst)\n",
    "    \n",
    "# 将接下来的500张狗的图像复制到test_dogs_dir\n",
    "fnames=['dog.{}.jpg'.format(i)for i in range(1500,2000)]\n",
    "for fname in fnames:\n",
    "    src=os.path.join(oritinal_dataset_dir,fname)\n",
    "    dst=os.path.join(test_dogs_dir,fname)\n",
    "    shutil.copyfile(src,dst)"
   ]
  },
  {
   "cell_type": "code",
   "execution_count": 3,
   "metadata": {},
   "outputs": [
    {
     "name": "stdout",
     "output_type": "stream",
     "text": [
      "total training cat images: 1000\n",
      "total validation cat images: 500\n",
      "total test cat images: 500\n",
      "total training dog images: 1000\n",
      "total validation dog images: 500\n",
      "total test dog images: 500\n"
     ]
    }
   ],
   "source": [
    "# 查看分组情况\n",
    "print('total training cat images:',len(os.listdir(train_cats_dir)))\n",
    "print('total validation cat images:',len(os.listdir(validation_cats_dir)))\n",
    "print('total test cat images:',len(os.listdir(test_cats_dir)))\n",
    "\n",
    "print('total training dog images:',len(os.listdir(train_dogs_dir)))\n",
    "print('total validation dog images:',len(os.listdir(validation_dogs_dir)))\n",
    "print('total test dog images:',len(os.listdir(test_dogs_dir)))"
   ]
  },
  {
   "cell_type": "markdown",
   "metadata": {},
   "source": [
    "## 2、构建网络"
   ]
  },
  {
   "cell_type": "markdown",
   "metadata": {},
   "source": [
    "###### 网络中特征图的深度在逐渐增大（从32增大到128），而特征图的尺寸在逐渐减小（从150x150减小到7x7）.这几乎是所有卷积神经网络的模式"
   ]
  },
  {
   "cell_type": "code",
   "execution_count": 4,
   "metadata": {},
   "outputs": [
    {
     "name": "stderr",
     "output_type": "stream",
     "text": [
      "G:\\Anaconda\\lib\\site-packages\\h5py\\__init__.py:34: FutureWarning: Conversion of the second argument of issubdtype from `float` to `np.floating` is deprecated. In future, it will be treated as `np.float64 == np.dtype(float).type`.\n",
      "  from ._conv import register_converters as _register_converters\n",
      "Using TensorFlow backend.\n"
     ]
    }
   ],
   "source": [
    "# 1、卷积神经网络的构建\n",
    "from keras import layers\n",
    "from keras import models\n",
    "\n",
    "model = models.Sequential()\n",
    "model.add(layers.Conv2D(32,(3,3),activation='relu',input_shape=(150,150,3)))\n",
    "model.add(layers.MaxPooling2D((2,2)))\n",
    "model.add(layers.Conv2D(64,(3,3),activation='relu'))\n",
    "model.add(layers.MaxPooling2D((2,2)))\n",
    "model.add(layers.Conv2D(128,(3,3),activation='relu'))\n",
    "model.add(layers.MaxPooling2D((2,2)))\n",
    "model.add(layers.Conv2D(128,(3,3),activation='relu'))\n",
    "model.add(layers.MaxPooling2D((2,2)))\n",
    "model.add(layers.Flatten())\n",
    "model.add(layers.Dense(512,activation='relu'))\n",
    "model.add(layers.Dense(1,activation='sigmoid'))"
   ]
  },
  {
   "cell_type": "code",
   "execution_count": 5,
   "metadata": {},
   "outputs": [
    {
     "name": "stdout",
     "output_type": "stream",
     "text": [
      "_________________________________________________________________\n",
      "Layer (type)                 Output Shape              Param #   \n",
      "=================================================================\n",
      "conv2d_1 (Conv2D)            (None, 148, 148, 32)      896       \n",
      "_________________________________________________________________\n",
      "max_pooling2d_1 (MaxPooling2 (None, 74, 74, 32)        0         \n",
      "_________________________________________________________________\n",
      "conv2d_2 (Conv2D)            (None, 72, 72, 64)        18496     \n",
      "_________________________________________________________________\n",
      "max_pooling2d_2 (MaxPooling2 (None, 36, 36, 64)        0         \n",
      "_________________________________________________________________\n",
      "conv2d_3 (Conv2D)            (None, 34, 34, 128)       73856     \n",
      "_________________________________________________________________\n",
      "max_pooling2d_3 (MaxPooling2 (None, 17, 17, 128)       0         \n",
      "_________________________________________________________________\n",
      "conv2d_4 (Conv2D)            (None, 15, 15, 128)       147584    \n",
      "_________________________________________________________________\n",
      "max_pooling2d_4 (MaxPooling2 (None, 7, 7, 128)         0         \n",
      "_________________________________________________________________\n",
      "flatten_1 (Flatten)          (None, 6272)              0         \n",
      "_________________________________________________________________\n",
      "dense_1 (Dense)              (None, 512)               3211776   \n",
      "_________________________________________________________________\n",
      "dense_2 (Dense)              (None, 1)                 513       \n",
      "=================================================================\n",
      "Total params: 3,453,121\n",
      "Trainable params: 3,453,121\n",
      "Non-trainable params: 0\n",
      "_________________________________________________________________\n"
     ]
    }
   ],
   "source": [
    "model.summary()"
   ]
  },
  {
   "cell_type": "code",
   "execution_count": 5,
   "metadata": {
    "collapsed": true
   },
   "outputs": [],
   "source": [
    "# 2、配置模型用于训练\n",
    "from keras import optimizers\n",
    "\n",
    "model.compile(loss='binary_crossentropy',optimizer=optimizers.RMSprop(lr=1e-4),metrics=['acc'])"
   ]
  },
  {
   "cell_type": "markdown",
   "metadata": {},
   "source": [
    "## 3、数据预处理"
   ]
  },
  {
   "cell_type": "markdown",
   "metadata": {},
   "source": [
    "###### （1）读取图像文件\n",
    "###### （2）将JPEG文件解码为RGB像素网络\n",
    "###### （3）将这些像素网格转换为浮点数张量\n",
    "###### （4）将像素值（0~255范围内）缩放到【0，1】区间"
   ]
  },
  {
   "cell_type": "code",
   "execution_count": 6,
   "metadata": {},
   "outputs": [
    {
     "name": "stdout",
     "output_type": "stream",
     "text": [
      "Found 2000 images belonging to 2 classes.\n",
      "Found 1000 images belonging to 2 classes.\n"
     ]
    }
   ],
   "source": [
    "# keras.preprocessing.image--图像处理辅助工具\n",
    "from keras.preprocessing.image import ImageDataGenerator\n",
    "\n",
    "# 将所有图像乘以1/255进行缩放\n",
    "train_datagen=ImageDataGenerator(rescale=1./255)\n",
    "test_datagen=ImageDataGenerator(rescale=1./255)\n",
    "\n",
    "# 因为使用了binary_crossentropy损失，所以需要用二进制标签\n",
    "train_generator=train_datagen.flow_from_directory(train_dir,target_size=(150,150),batch_size=20,class_mode='binary')\n",
    "validation_generator=test_datagen.flow_from_directory(validation_dir,target_size=(150,150),batch_size=20,class_mode='binary')"
   ]
  },
  {
   "cell_type": "markdown",
   "metadata": {},
   "source": [
    "###### 生成器生成了150x150的RGB图像[形状为（20，150，150，3）]与二进制标签[形状为（20，）组成的批量。每个批量中包含20个样本（批量大小）"
   ]
  },
  {
   "cell_type": "code",
   "execution_count": 8,
   "metadata": {},
   "outputs": [
    {
     "name": "stdout",
     "output_type": "stream",
     "text": [
      "Epoch 1/30\n",
      "100/100 [==============================] - 174s 2s/step - loss: 0.6918 - acc: 0.5265 - val_loss: 0.6751 - val_acc: 0.5410\n",
      "Epoch 2/30\n",
      "100/100 [==============================] - 176s 2s/step - loss: 0.6597 - acc: 0.5895 - val_loss: 0.6384 - val_acc: 0.6330\n",
      "Epoch 3/30\n",
      "100/100 [==============================] - 165s 2s/step - loss: 0.6113 - acc: 0.6785 - val_loss: 0.6038 - val_acc: 0.6830\n",
      "Epoch 4/30\n",
      "100/100 [==============================] - 195s 2s/step - loss: 0.5694 - acc: 0.6915 - val_loss: 0.5911 - val_acc: 0.6880\n",
      "Epoch 5/30\n",
      "100/100 [==============================] - 189s 2s/step - loss: 0.5440 - acc: 0.7305 - val_loss: 0.5870 - val_acc: 0.6830\n",
      "Epoch 6/30\n",
      "100/100 [==============================] - 160s 2s/step - loss: 0.5165 - acc: 0.7390 - val_loss: 0.5999 - val_acc: 0.6740\n",
      "Epoch 7/30\n",
      "100/100 [==============================] - 155s 2s/step - loss: 0.4848 - acc: 0.7655 - val_loss: 0.5634 - val_acc: 0.6980\n",
      "Epoch 8/30\n",
      "100/100 [==============================] - 185s 2s/step - loss: 0.4562 - acc: 0.7835 - val_loss: 0.5676 - val_acc: 0.7120\n",
      "Epoch 9/30\n",
      "100/100 [==============================] - 170s 2s/step - loss: 0.4380 - acc: 0.7925 - val_loss: 0.5349 - val_acc: 0.7280\n",
      "Epoch 10/30\n",
      "100/100 [==============================] - 170s 2s/step - loss: 0.4071 - acc: 0.8130 - val_loss: 0.5402 - val_acc: 0.7320\n",
      "Epoch 11/30\n",
      "100/100 [==============================] - 170s 2s/step - loss: 0.3866 - acc: 0.8285 - val_loss: 0.5548 - val_acc: 0.7230\n",
      "Epoch 12/30\n",
      "100/100 [==============================] - 177s 2s/step - loss: 0.3662 - acc: 0.8415 - val_loss: 0.5602 - val_acc: 0.7290\n",
      "Epoch 13/30\n",
      "100/100 [==============================] - 174s 2s/step - loss: 0.3450 - acc: 0.8460 - val_loss: 0.6252 - val_acc: 0.7110\n",
      "Epoch 14/30\n",
      "100/100 [==============================] - 171s 2s/step - loss: 0.3234 - acc: 0.8610 - val_loss: 0.6548 - val_acc: 0.7080\n",
      "Epoch 15/30\n",
      "100/100 [==============================] - 172s 2s/step - loss: 0.2952 - acc: 0.8750 - val_loss: 0.7213 - val_acc: 0.7110\n",
      "Epoch 16/30\n",
      "100/100 [==============================] - 178s 2s/step - loss: 0.2773 - acc: 0.8900 - val_loss: 0.6332 - val_acc: 0.7190\n",
      "Epoch 17/30\n",
      "100/100 [==============================] - 174s 2s/step - loss: 0.2439 - acc: 0.8995 - val_loss: 0.7109 - val_acc: 0.7240\n",
      "Epoch 18/30\n",
      "100/100 [==============================] - 172s 2s/step - loss: 0.2331 - acc: 0.9070 - val_loss: 0.6436 - val_acc: 0.7270\n",
      "Epoch 19/30\n",
      "100/100 [==============================] - 175s 2s/step - loss: 0.2092 - acc: 0.9205 - val_loss: 0.6142 - val_acc: 0.7350\n",
      "Epoch 20/30\n",
      "100/100 [==============================] - 174s 2s/step - loss: 0.1900 - acc: 0.9320 - val_loss: 0.6208 - val_acc: 0.7440\n",
      "Epoch 21/30\n",
      "100/100 [==============================] - 173s 2s/step - loss: 0.1664 - acc: 0.9410 - val_loss: 0.7023 - val_acc: 0.7270\n",
      "Epoch 22/30\n",
      "100/100 [==============================] - 173s 2s/step - loss: 0.1532 - acc: 0.9460 - val_loss: 0.6872 - val_acc: 0.7320\n",
      "Epoch 23/30\n",
      "100/100 [==============================] - 173s 2s/step - loss: 0.1346 - acc: 0.9610 - val_loss: 0.7572 - val_acc: 0.7190\n",
      "Epoch 24/30\n",
      "100/100 [==============================] - 173s 2s/step - loss: 0.1211 - acc: 0.9600 - val_loss: 0.7470 - val_acc: 0.7390\n",
      "Epoch 25/30\n",
      "100/100 [==============================] - 173s 2s/step - loss: 0.1003 - acc: 0.9670 - val_loss: 0.9821 - val_acc: 0.7110\n",
      "Epoch 26/30\n",
      "100/100 [==============================] - 172s 2s/step - loss: 0.0946 - acc: 0.9685 - val_loss: 0.8641 - val_acc: 0.7200\n",
      "Epoch 27/30\n",
      "100/100 [==============================] - 167s 2s/step - loss: 0.0793 - acc: 0.9795 - val_loss: 0.8974 - val_acc: 0.7230\n",
      "Epoch 28/30\n",
      "100/100 [==============================] - 154s 2s/step - loss: 0.0623 - acc: 0.9805 - val_loss: 0.9128 - val_acc: 0.7350\n",
      "Epoch 29/30\n",
      "100/100 [==============================] - 154s 2s/step - loss: 0.0580 - acc: 0.9815 - val_loss: 0.9153 - val_acc: 0.7390\n",
      "Epoch 30/30\n",
      "100/100 [==============================] - 154s 2s/step - loss: 0.0494 - acc: 0.9870 - val_loss: 0.9992 - val_acc: 0.7380\n"
     ]
    }
   ],
   "source": [
    "history=model.fit_generator(train_generator,steps_per_epoch=100,epochs=30,validation_data=validation_generator,validation_steps=50)"
   ]
  },
  {
   "cell_type": "code",
   "execution_count": 10,
   "metadata": {
    "collapsed": true
   },
   "outputs": [],
   "source": [
    "model.save('cats_and_dogs_small_1.h5')"
   ]
  },
  {
   "cell_type": "markdown",
   "metadata": {},
   "source": [
    "## 4、绘制训练过程中的损失曲线和精度曲线"
   ]
  },
  {
   "cell_type": "code",
   "execution_count": 16,
   "metadata": {},
   "outputs": [
    {
     "data": {
      "image/png": "[encoded data removed]",
      "text/plain": [
       "<matplotlib.figure.Figure at 0x13a9ac1cfd0>"
      ]
     },
     "metadata": {},
     "output_type": "display_data"
    }
   ],
   "source": [
    "import matplotlib.pyplot as plt\n",
    "\n",
    "acc=history.history['acc']\n",
    "val_acc=history.history['val_acc']\n",
    "loss=history.history['loss']\n",
    "val_loss=history.history['val_loss']\n",
    "\n",
    "epochs=range(1,len(acc)+1)\n",
    "\n",
    "plt.plot(epochs,acc,'bo',label='Training acc')\n",
    "plt.plot(epochs,val_acc,'b',label='Validation acc')\n",
    "plt.title('Training and validation accuracy')\n",
    "plt.legend()\n",
    "plt.show()"
   ]
  },
  {
   "cell_type": "code",
   "execution_count": 17,
   "metadata": {},
   "outputs": [
    {
     "data": {
      "image/png": "[encoded data removed]",
      "text/plain": [
       "<matplotlib.figure.Figure at 0x13a9acd0d68>"
      ]
     },
     "metadata": {},
     "output_type": "display_data"
    }
   ],
   "source": [
    "plt.plot(epochs,loss,'bo',label='Training loss')\n",
    "plt.plot(epochs,val_loss,'b',label='Validation loss')\n",
    "plt.title('Training and validation loss')\n",
    "plt.legend()\n",
    "plt.show()"
   ]
  },
  {
   "cell_type": "markdown",
   "metadata": {},
   "source": [
    "##### 训练精度随着时间现行增加，知道接近100%，而验证精度则停留在70%左右。\n",
    "##### 验证损失在5轮后就达到最小值，然后保持不变，而训练损失之一线性下降\n",
    "### 因此重点在于处理过拟合问题\n",
    "#### 方法：数据增强"
   ]
  },
  {
   "cell_type": "markdown",
   "metadata": {},
   "source": [
    "## 5、使用数据增强---处理过拟合"
   ]
  },
  {
   "cell_type": "markdown",
   "metadata": {},
   "source": [
    "过拟合的原因是学习样本太少，导致无法训练出能够泛化到新数据的模型。如果拥有无限的数据，那么模型能够观察到的数据分布的所有内容，这样就永远不会过拟合。"
   ]
  },
  {
   "cell_type": "markdown",
   "metadata": {},
   "source": [
    "##### 数据增强是从现有的训练样本中生成更多的训练数据，其方法是利用多种能够生成可信图像的随即变换来增加样本。其目标是，模型在训练时不会两次查看完全相同的图像。这让模型能够观察到数据的更多内容从而具有良好的泛化能力"
   ]
  },
  {
   "cell_type": "code",
   "execution_count": 7,
   "metadata": {
    "collapsed": true
   },
   "outputs": [],
   "source": [
    "# 定义一个包含dropout的新卷积神经网络\n",
    "\n",
    "\n",
    "model = models.Sequential()\n",
    "model.add(layers.Conv2D(32, (3, 3), activation='relu',input_shape=(150, 150, 3)))\n",
    "model.add(layers.MaxPooling2D((2, 2)))\n",
    "model.add(layers.Conv2D(64, (3, 3), activation='relu'))\n",
    "model.add(layers.MaxPooling2D((2, 2)))\n",
    "model.add(layers.Conv2D(128, (3, 3), activation='relu'))\n",
    "model.add(layers.MaxPooling2D((2, 2)))\n",
    "model.add(layers.Conv2D(128, (3, 3), activation='relu'))\n",
    "model.add(layers.MaxPooling2D((2, 2)))\n",
    "model.add(layers.Flatten())\n",
    "model.add(layers.Dropout(0.5))\n",
    "model.add(layers.Dense(512, activation='relu'))\n",
    "model.add(layers.Dense(1, activation='sigmoid'))\n",
    "\n",
    "model.compile(loss='binary_crossentropy',\n",
    "              optimizer=optimizers.RMSprop(lr=1e-4),\n",
    "              metrics=['acc'])"
   ]
  },
  {
   "cell_type": "code",
   "execution_count": 9,
   "metadata": {},
   "outputs": [
    {
     "name": "stdout",
     "output_type": "stream",
     "text": [
      "Found 2000 images belonging to 2 classes.\n",
      "Found 1000 images belonging to 2 classes.\n",
      "Epoch 1/100\n",
      "100/100 [==============================] - 266s 3s/step - loss: 0.6939 - acc: 0.5172 - val_loss: 0.6861 - val_acc: 0.5019\n",
      "Epoch 2/100\n",
      "100/100 [==============================] - 330s 3s/step - loss: 0.6818 - acc: 0.5731 - val_loss: 0.6729 - val_acc: 0.5522\n",
      "Epoch 3/100\n",
      "100/100 [==============================] - 358s 4s/step - loss: 0.6693 - acc: 0.5847 - val_loss: 0.7389 - val_acc: 0.5146\n",
      "Epoch 4/100\n",
      "100/100 [==============================] - 289s 3s/step - loss: 0.6543 - acc: 0.6141 - val_loss: 0.6383 - val_acc: 0.6269\n",
      "Epoch 5/100\n",
      "100/100 [==============================] - 302s 3s/step - loss: 0.6413 - acc: 0.6369 - val_loss: 0.6430 - val_acc: 0.6339\n",
      "Epoch 6/100\n",
      "100/100 [==============================] - 287s 3s/step - loss: 0.6345 - acc: 0.6369 - val_loss: 0.6026 - val_acc: 0.6675\n",
      "Epoch 7/100\n",
      "100/100 [==============================] - 422s 4s/step - loss: 0.6119 - acc: 0.6747 - val_loss: 0.6045 - val_acc: 0.6834\n",
      "Epoch 8/100\n",
      "100/100 [==============================] - 456s 5s/step - loss: 0.6074 - acc: 0.6681 - val_loss: 0.6139 - val_acc: 0.6495\n",
      "Epoch 9/100\n",
      "100/100 [==============================] - 496s 5s/step - loss: 0.5897 - acc: 0.6791 - val_loss: 0.5972 - val_acc: 0.6759\n",
      "Epoch 10/100\n",
      "100/100 [==============================] - 255s 3s/step - loss: 0.5870 - acc: 0.6794 - val_loss: 0.5690 - val_acc: 0.6954\n",
      "Epoch 11/100\n",
      "100/100 [==============================] - 237s 2s/step - loss: 0.5678 - acc: 0.7056 - val_loss: 0.5576 - val_acc: 0.7062\n",
      "Epoch 12/100\n",
      "100/100 [==============================] - 234s 2s/step - loss: 0.5842 - acc: 0.6891 - val_loss: 0.5504 - val_acc: 0.7176\n",
      "Epoch 13/100\n",
      "100/100 [==============================] - 231s 2s/step - loss: 0.5701 - acc: 0.6972 - val_loss: 0.5132 - val_acc: 0.7423\n",
      "Epoch 14/100\n",
      "100/100 [==============================] - 230s 2s/step - loss: 0.5525 - acc: 0.7175 - val_loss: 0.5124 - val_acc: 0.7297\n",
      "Epoch 15/100\n",
      "100/100 [==============================] - 232s 2s/step - loss: 0.5549 - acc: 0.7063 - val_loss: 0.5201 - val_acc: 0.7474\n",
      "Epoch 16/100\n",
      "100/100 [==============================] - 227s 2s/step - loss: 0.5507 - acc: 0.7191 - val_loss: 0.5328 - val_acc: 0.7184\n",
      "Epoch 17/100\n",
      "100/100 [==============================] - 229s 2s/step - loss: 0.5470 - acc: 0.7197 - val_loss: 0.5208 - val_acc: 0.7284\n",
      "Epoch 18/100\n",
      "100/100 [==============================] - 227s 2s/step - loss: 0.5351 - acc: 0.7297 - val_loss: 0.5358 - val_acc: 0.7262\n",
      "Epoch 19/100\n",
      "100/100 [==============================] - 227s 2s/step - loss: 0.5289 - acc: 0.7338 - val_loss: 0.4932 - val_acc: 0.7570\n",
      "Epoch 20/100\n",
      "100/100 [==============================] - 227s 2s/step - loss: 0.5311 - acc: 0.7356 - val_loss: 0.5073 - val_acc: 0.7500\n",
      "Epoch 21/100\n",
      "100/100 [==============================] - 227s 2s/step - loss: 0.5233 - acc: 0.7363 - val_loss: 0.5244 - val_acc: 0.7234\n",
      "Epoch 22/100\n",
      "100/100 [==============================] - 229s 2s/step - loss: 0.5160 - acc: 0.7366 - val_loss: 0.4885 - val_acc: 0.7584\n",
      "Epoch 23/100\n",
      "100/100 [==============================] - 227s 2s/step - loss: 0.5159 - acc: 0.7444 - val_loss: 0.5057 - val_acc: 0.7506\n",
      "Epoch 24/100\n",
      "100/100 [==============================] - 227s 2s/step - loss: 0.5058 - acc: 0.7475 - val_loss: 0.4536 - val_acc: 0.7835\n",
      "Epoch 25/100\n",
      "100/100 [==============================] - 229s 2s/step - loss: 0.5152 - acc: 0.7422 - val_loss: 0.5040 - val_acc: 0.7597\n",
      "Epoch 26/100\n",
      "100/100 [==============================] - 228s 2s/step - loss: 0.5148 - acc: 0.7534 - val_loss: 0.4903 - val_acc: 0.7665\n",
      "Epoch 27/100\n",
      "100/100 [==============================] - 228s 2s/step - loss: 0.5065 - acc: 0.7434 - val_loss: 0.5110 - val_acc: 0.7416\n",
      "Epoch 28/100\n",
      "100/100 [==============================] - 227s 2s/step - loss: 0.4963 - acc: 0.7597 - val_loss: 0.4621 - val_acc: 0.7709\n",
      "Epoch 29/100\n",
      "100/100 [==============================] - 238s 2s/step - loss: 0.4941 - acc: 0.7597 - val_loss: 0.5195 - val_acc: 0.7455\n",
      "Epoch 30/100\n",
      "100/100 [==============================] - 238s 2s/step - loss: 0.4963 - acc: 0.7578 - val_loss: 0.4662 - val_acc: 0.7798\n",
      "Epoch 31/100\n",
      "100/100 [==============================] - 246s 2s/step - loss: 0.4880 - acc: 0.7609 - val_loss: 0.4814 - val_acc: 0.7726\n",
      "Epoch 32/100\n",
      "100/100 [==============================] - 235s 2s/step - loss: 0.4943 - acc: 0.7603 - val_loss: 0.4651 - val_acc: 0.7771\n",
      "Epoch 33/100\n",
      "100/100 [==============================] - 242s 2s/step - loss: 0.4805 - acc: 0.7675 - val_loss: 0.4565 - val_acc: 0.7912\n",
      "Epoch 34/100\n",
      "100/100 [==============================] - 235s 2s/step - loss: 0.4869 - acc: 0.7631 - val_loss: 0.4970 - val_acc: 0.7455\n",
      "Epoch 35/100\n",
      "100/100 [==============================] - 234s 2s/step - loss: 0.4836 - acc: 0.7738 - val_loss: 0.4779 - val_acc: 0.7703\n",
      "Epoch 36/100\n",
      "100/100 [==============================] - 227s 2s/step - loss: 0.4770 - acc: 0.7691 - val_loss: 0.4778 - val_acc: 0.7700\n",
      "Epoch 37/100\n",
      "100/100 [==============================] - 237s 2s/step - loss: 0.4663 - acc: 0.7700 - val_loss: 0.5056 - val_acc: 0.7659\n",
      "Epoch 38/100\n",
      "100/100 [==============================] - 236s 2s/step - loss: 0.4682 - acc: 0.7753 - val_loss: 0.4516 - val_acc: 0.7996\n",
      "Epoch 39/100\n",
      "100/100 [==============================] - 233s 2s/step - loss: 0.4753 - acc: 0.7694 - val_loss: 0.4741 - val_acc: 0.7779\n",
      "Epoch 40/100\n",
      "100/100 [==============================] - 225s 2s/step - loss: 0.4675 - acc: 0.7741 - val_loss: 0.4690 - val_acc: 0.7751\n",
      "Epoch 41/100\n",
      "100/100 [==============================] - 225s 2s/step - loss: 0.4623 - acc: 0.7888 - val_loss: 0.4551 - val_acc: 0.7912\n",
      "Epoch 42/100\n",
      "100/100 [==============================] - 226s 2s/step - loss: 0.4607 - acc: 0.7844 - val_loss: 0.4571 - val_acc: 0.7893\n",
      "Epoch 43/100\n",
      "100/100 [==============================] - 225s 2s/step - loss: 0.4692 - acc: 0.7759 - val_loss: 0.4679 - val_acc: 0.7655\n",
      "Epoch 44/100\n",
      "100/100 [==============================] - 226s 2s/step - loss: 0.4449 - acc: 0.7894 - val_loss: 0.4740 - val_acc: 0.7665\n",
      "Epoch 45/100\n",
      "100/100 [==============================] - 225s 2s/step - loss: 0.4560 - acc: 0.7816 - val_loss: 0.4820 - val_acc: 0.7790\n",
      "Epoch 46/100\n",
      "100/100 [==============================] - 226s 2s/step - loss: 0.4630 - acc: 0.7797 - val_loss: 0.4566 - val_acc: 0.7817\n",
      "Epoch 47/100\n",
      "100/100 [==============================] - 226s 2s/step - loss: 0.4471 - acc: 0.7872 - val_loss: 0.4793 - val_acc: 0.7854\n",
      "Epoch 48/100\n",
      "100/100 [==============================] - 225s 2s/step - loss: 0.4419 - acc: 0.7931 - val_loss: 0.4675 - val_acc: 0.7906\n",
      "Epoch 49/100\n",
      "100/100 [==============================] - 226s 2s/step - loss: 0.4435 - acc: 0.7944 - val_loss: 0.4547 - val_acc: 0.7843\n",
      "Epoch 50/100\n",
      "100/100 [==============================] - 225s 2s/step - loss: 0.4490 - acc: 0.7934 - val_loss: 0.5040 - val_acc: 0.7506\n",
      "Epoch 51/100\n",
      "100/100 [==============================] - 226s 2s/step - loss: 0.4426 - acc: 0.7922 - val_loss: 0.4457 - val_acc: 0.8046\n",
      "Epoch 52/100\n",
      "100/100 [==============================] - 225s 2s/step - loss: 0.4388 - acc: 0.7962 - val_loss: 0.4675 - val_acc: 0.7867\n",
      "Epoch 53/100\n",
      "100/100 [==============================] - 225s 2s/step - loss: 0.4438 - acc: 0.7962 - val_loss: 0.4331 - val_acc: 0.8071\n",
      "Epoch 54/100\n",
      "100/100 [==============================] - 226s 2s/step - loss: 0.4259 - acc: 0.7975 - val_loss: 0.4562 - val_acc: 0.7848\n",
      "Epoch 55/100\n",
      "100/100 [==============================] - 226s 2s/step - loss: 0.4303 - acc: 0.8044 - val_loss: 0.4310 - val_acc: 0.8122\n",
      "Epoch 56/100\n",
      "100/100 [==============================] - 226s 2s/step - loss: 0.4344 - acc: 0.8003 - val_loss: 0.4912 - val_acc: 0.7648\n",
      "Epoch 57/100\n",
      "100/100 [==============================] - 225s 2s/step - loss: 0.4372 - acc: 0.7944 - val_loss: 0.4369 - val_acc: 0.8048\n",
      "Epoch 58/100\n",
      "100/100 [==============================] - 225s 2s/step - loss: 0.4264 - acc: 0.8091 - val_loss: 0.5146 - val_acc: 0.7760\n",
      "Epoch 59/100\n",
      "100/100 [==============================] - 226s 2s/step - loss: 0.4237 - acc: 0.8066 - val_loss: 0.4302 - val_acc: 0.7970\n",
      "Epoch 60/100\n",
      "100/100 [==============================] - 225s 2s/step - loss: 0.4302 - acc: 0.8010 - val_loss: 0.4806 - val_acc: 0.7887\n",
      "Epoch 61/100\n"
     ]
    },
    {
     "name": "stdout",
     "output_type": "stream",
     "text": [
      "100/100 [==============================] - 225s 2s/step - loss: 0.4080 - acc: 0.8106 - val_loss: 0.4378 - val_acc: 0.8067\n",
      "Epoch 62/100\n",
      "100/100 [==============================] - 226s 2s/step - loss: 0.4184 - acc: 0.8100 - val_loss: 0.4430 - val_acc: 0.8109\n",
      "Epoch 63/100\n",
      "100/100 [==============================] - 225s 2s/step - loss: 0.4172 - acc: 0.8109 - val_loss: 0.4986 - val_acc: 0.7745\n",
      "Epoch 64/100\n",
      "100/100 [==============================] - 226s 2s/step - loss: 0.4165 - acc: 0.8091 - val_loss: 0.4564 - val_acc: 0.8080\n",
      "Epoch 65/100\n",
      "100/100 [==============================] - 225s 2s/step - loss: 0.4097 - acc: 0.8100 - val_loss: 0.4445 - val_acc: 0.8128\n",
      "Epoch 66/100\n",
      "100/100 [==============================] - 226s 2s/step - loss: 0.4183 - acc: 0.8075 - val_loss: 0.4932 - val_acc: 0.7970\n",
      "Epoch 67/100\n",
      "100/100 [==============================] - 226s 2s/step - loss: 0.4087 - acc: 0.8163 - val_loss: 0.4640 - val_acc: 0.7906\n",
      "Epoch 68/100\n",
      "100/100 [==============================] - 226s 2s/step - loss: 0.4187 - acc: 0.8053 - val_loss: 0.4448 - val_acc: 0.8170\n",
      "Epoch 69/100\n",
      "100/100 [==============================] - 226s 2s/step - loss: 0.4022 - acc: 0.8197 - val_loss: 0.4223 - val_acc: 0.8154\n",
      "Epoch 70/100\n",
      "100/100 [==============================] - 227s 2s/step - loss: 0.4026 - acc: 0.8166 - val_loss: 0.4267 - val_acc: 0.8170\n",
      "Epoch 71/100\n",
      "100/100 [==============================] - 230s 2s/step - loss: 0.4012 - acc: 0.8156 - val_loss: 0.4333 - val_acc: 0.8058\n",
      "Epoch 72/100\n",
      "100/100 [==============================] - 225s 2s/step - loss: 0.3963 - acc: 0.8153 - val_loss: 0.4530 - val_acc: 0.8170\n",
      "Epoch 73/100\n",
      "100/100 [==============================] - 226s 2s/step - loss: 0.4092 - acc: 0.8112 - val_loss: 0.4168 - val_acc: 0.8183\n",
      "Epoch 74/100\n",
      "100/100 [==============================] - 225s 2s/step - loss: 0.3959 - acc: 0.8144 - val_loss: 0.4452 - val_acc: 0.7995\n",
      "Epoch 75/100\n",
      "100/100 [==============================] - 225s 2s/step - loss: 0.3931 - acc: 0.8250 - val_loss: 0.4454 - val_acc: 0.8041\n",
      "Epoch 76/100\n",
      "100/100 [==============================] - 226s 2s/step - loss: 0.3888 - acc: 0.8209 - val_loss: 0.4656 - val_acc: 0.7811\n",
      "Epoch 77/100\n",
      "100/100 [==============================] - 225s 2s/step - loss: 0.3821 - acc: 0.8278 - val_loss: 0.4423 - val_acc: 0.8144\n",
      "Epoch 78/100\n",
      "100/100 [==============================] - 228s 2s/step - loss: 0.3777 - acc: 0.8272 - val_loss: 0.4453 - val_acc: 0.8160\n",
      "Epoch 79/100\n",
      "100/100 [==============================] - 225s 2s/step - loss: 0.3934 - acc: 0.8247 - val_loss: 0.4024 - val_acc: 0.8293\n",
      "Epoch 80/100\n",
      "100/100 [==============================] - 226s 2s/step - loss: 0.3909 - acc: 0.8219 - val_loss: 0.5220 - val_acc: 0.7809\n",
      "Epoch 81/100\n",
      "100/100 [==============================] - 225s 2s/step - loss: 0.3829 - acc: 0.8244 - val_loss: 0.4316 - val_acc: 0.8204\n",
      "Epoch 82/100\n",
      "100/100 [==============================] - 225s 2s/step - loss: 0.3718 - acc: 0.8303 - val_loss: 0.3970 - val_acc: 0.8344\n",
      "Epoch 83/100\n",
      "100/100 [==============================] - 226s 2s/step - loss: 0.3687 - acc: 0.8338 - val_loss: 0.4154 - val_acc: 0.8046\n",
      "Epoch 84/100\n",
      "100/100 [==============================] - 225s 2s/step - loss: 0.3870 - acc: 0.8209 - val_loss: 0.4610 - val_acc: 0.8099\n",
      "Epoch 85/100\n",
      "100/100 [==============================] - 227s 2s/step - loss: 0.3788 - acc: 0.8306 - val_loss: 0.4224 - val_acc: 0.8293\n",
      "Epoch 86/100\n",
      "100/100 [==============================] - 225s 2s/step - loss: 0.3817 - acc: 0.8313 - val_loss: 0.4141 - val_acc: 0.8273\n",
      "Epoch 87/100\n",
      "100/100 [==============================] - 226s 2s/step - loss: 0.3657 - acc: 0.8391 - val_loss: 0.4389 - val_acc: 0.8001\n",
      "Epoch 88/100\n",
      "100/100 [==============================] - 226s 2s/step - loss: 0.3775 - acc: 0.8384 - val_loss: 0.4253 - val_acc: 0.8247\n",
      "Epoch 89/100\n",
      "100/100 [==============================] - 225s 2s/step - loss: 0.3815 - acc: 0.8269 - val_loss: 0.3922 - val_acc: 0.8325\n",
      "Epoch 90/100\n",
      "100/100 [==============================] - 226s 2s/step - loss: 0.3550 - acc: 0.8488 - val_loss: 0.4336 - val_acc: 0.8198\n",
      "Epoch 91/100\n",
      "100/100 [==============================] - 225s 2s/step - loss: 0.3625 - acc: 0.8334 - val_loss: 0.3937 - val_acc: 0.8447\n",
      "Epoch 92/100\n",
      "100/100 [==============================] - 226s 2s/step - loss: 0.3690 - acc: 0.8406 - val_loss: 0.4060 - val_acc: 0.8357\n",
      "Epoch 93/100\n",
      "100/100 [==============================] - 226s 2s/step - loss: 0.3663 - acc: 0.8384 - val_loss: 0.4629 - val_acc: 0.8073\n",
      "Epoch 94/100\n",
      "100/100 [==============================] - 226s 2s/step - loss: 0.3669 - acc: 0.8291 - val_loss: 0.3969 - val_acc: 0.8338\n",
      "Epoch 95/100\n",
      "100/100 [==============================] - 226s 2s/step - loss: 0.3675 - acc: 0.8406 - val_loss: 0.4490 - val_acc: 0.8170\n",
      "Epoch 96/100\n",
      "100/100 [==============================] - 225s 2s/step - loss: 0.3551 - acc: 0.8425 - val_loss: 0.5470 - val_acc: 0.7655\n",
      "Epoch 97/100\n",
      "100/100 [==============================] - 226s 2s/step - loss: 0.3638 - acc: 0.8422 - val_loss: 0.4322 - val_acc: 0.8046\n",
      "Epoch 98/100\n",
      "100/100 [==============================] - 225s 2s/step - loss: 0.3539 - acc: 0.8416 - val_loss: 0.4161 - val_acc: 0.8293\n",
      "Epoch 99/100\n",
      "100/100 [==============================] - 225s 2s/step - loss: 0.3598 - acc: 0.8437 - val_loss: 0.5367 - val_acc: 0.7760\n",
      "Epoch 100/100\n",
      "100/100 [==============================] - 226s 2s/step - loss: 0.3520 - acc: 0.8369 - val_loss: 0.4158 - val_acc: 0.8363\n"
     ]
    }
   ],
   "source": [
    "# 利用数据增强生成器训练卷积神经网络\n",
    "\n",
    "\n",
    "train_datagen = ImageDataGenerator(\n",
    "    rescale=1./255,\n",
    "    rotation_range=40,\n",
    "    width_shift_range=0.2,\n",
    "    height_shift_range=0.2,\n",
    "    shear_range=0.2,\n",
    "    zoom_range=0.2,\n",
    "    horizontal_flip=True,)\n",
    "\n",
    "# Note that the validation data should not be augmented!\n",
    "test_datagen = ImageDataGenerator(rescale=1./255)\n",
    "\n",
    "train_generator = train_datagen.flow_from_directory(\n",
    "        # This is the target directory\n",
    "        train_dir,\n",
    "        # All images will be resized to 150x150\n",
    "        target_size=(150, 150),\n",
    "        batch_size=32,\n",
    "        # Since we use binary_crossentropy loss, we need binary labels\n",
    "        class_mode='binary')\n",
    "\n",
    "validation_generator = test_datagen.flow_from_directory(\n",
    "        validation_dir,\n",
    "        target_size=(150, 150),\n",
    "        batch_size=32,\n",
    "        class_mode='binary')\n",
    "\n",
    "history = model.fit_generator(\n",
    "      train_generator,\n",
    "      steps_per_epoch=100,\n",
    "      epochs=100,\n",
    "      validation_data=validation_generator,\n",
    "      validation_steps=50)"
   ]
  },
  {
   "cell_type": "code",
   "execution_count": 10,
   "metadata": {
    "collapsed": true
   },
   "outputs": [],
   "source": [
    "model.save('cats_and_dogs_small_2.h5')"
   ]
  },
  {
   "cell_type": "code",
   "execution_count": 11,
   "metadata": {},
   "outputs": [
    {
     "data": {
      "image/png": "[encoded data removed]",
      "text/plain": [
       "<matplotlib.figure.Figure at 0x153bbdfaa58>"
      ]
     },
     "metadata": {},
     "output_type": "display_data"
    }
   ],
   "source": [
    "import matplotlib.pyplot as plt\n",
    "\n",
    "acc=history.history['acc']\n",
    "val_acc=history.history['val_acc']\n",
    "loss=history.history['loss']\n",
    "val_loss=history.history['val_loss']\n",
    "\n",
    "epochs=range(1,len(acc)+1)\n",
    "\n",
    "plt.plot(epochs,acc,'bo',label='Training acc')\n",
    "plt.plot(epochs,val_acc,'b',label='Validation acc')\n",
    "plt.title('Training and validation accuracy')\n",
    "plt.legend()\n",
    "plt.show()"
   ]
  },
  {
   "cell_type": "code",
   "execution_count": 12,
   "metadata": {},
   "outputs": [
    {
     "data": {
      "image/png": "[encoded data removed]",
      "text/plain": [
       "<matplotlib.figure.Figure at 0x153bbe82518>"
      ]
     },
     "metadata": {},
     "output_type": "display_data"
    }
   ],
   "source": [
    "plt.plot(epochs,loss,'bo',label='Training loss')\n",
    "plt.plot(epochs,val_loss,'b',label='Validation loss')\n",
    "plt.title('Training and validation loss')\n",
    "plt.legend()\n",
    "plt.show()"
   ]
  },
  {
   "cell_type": "code",
   "execution_count": null,
   "metadata": {
    "collapsed": true
   },
   "outputs": [],
   "source": []
  }
 ],
 "metadata": {
  "kernelspec": {
   "display_name": "Python 3",
   "language": "python",
   "name": "python3"
  },
  "language_info": {
   "codemirror_mode": {
    "name": "ipython",
    "version": 3
   },
   "file_extension": ".py",
   "mimetype": "text/x-python",
   "name": "python",
   "nbconvert_exporter": "python",
   "pygments_lexer": "ipython3",
   "version": "3.6.1"
  }
 },
 "nbformat": 4,
 "nbformat_minor": 2
}
