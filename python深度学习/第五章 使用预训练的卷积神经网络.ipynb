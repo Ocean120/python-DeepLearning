{
 "cells": [
  {
   "cell_type": "markdown",
   "metadata": {},
   "source": [
    "### 预训练网络\n",
    "###### 一个保存好的网络，之前已在大型数据集（通常是大规模图像分类任务）上训练好。如果这个原始数据集足够大且足够通用，那么预训练网络学到的特征的空间层次结构可以有效的作为视觉世界的通用模型，因此这些特征可用于各种不同的计算机数据问题，即使这些新问题涉及的类别和原始任务完全不同。"
   ]
  },
  {
   "cell_type": "markdown",
   "metadata": {},
   "source": [
    "### 5.3.1 特征提取"
   ]
  },
  {
   "cell_type": "code",
   "execution_count": 1,
   "metadata": {
    "collapsed": true
   },
   "outputs": [],
   "source": [
    "# 将VGG16卷积实例化\n",
    "from keras.applications import VGG16"
   ]
  },
  {
   "cell_type": "code",
   "execution_count": 2,
   "metadata": {},
   "outputs": [
    {
     "name": "stdout",
     "output_type": "stream",
     "text": [
      "Downloading data from https://github.com/fchollet/deep-learning-models/releases/download/v0.1/vgg16_weights_tf_dim_ordering_tf_kernels_notop.h5\n",
      "58892288/58889256 [==============================] - 966s 16us/step\n"
     ]
    }
   ],
   "source": [
    "conv_base = VGG16(weights='imagenet',include_top=False,input_shape=(150,150,3))\n",
    "# weights指定模型初始化的权重检查点\n",
    "# include_top制定模型最后是否包含密集连接分类器。默认情况下，这个密集连接分类器对应于ImageNet的1000个类别。\n",
    "# 因为我们打算使用自己的密集连接分类器（只有两个类别：cat dog），所以不需要包含它\n",
    "# input_shape是输入到网络中的图像张量的形状"
   ]
  },
  {
   "cell_type": "code",
   "execution_count": 3,
   "metadata": {},
   "outputs": [
    {
     "name": "stdout",
     "output_type": "stream",
     "text": [
      "_________________________________________________________________\n",
      "Layer (type)                 Output Shape              Param #   \n",
      "=================================================================\n",
      "input_1 (InputLayer)         (None, 150, 150, 3)       0         \n",
      "_________________________________________________________________\n",
      "block1_conv1 (Conv2D)        (None, 150, 150, 64)      1792      \n",
      "_________________________________________________________________\n",
      "block1_conv2 (Conv2D)        (None, 150, 150, 64)      36928     \n",
      "_________________________________________________________________\n",
      "block1_pool (MaxPooling2D)   (None, 75, 75, 64)        0         \n",
      "_________________________________________________________________\n",
      "block2_conv1 (Conv2D)        (None, 75, 75, 128)       73856     \n",
      "_________________________________________________________________\n",
      "block2_conv2 (Conv2D)        (None, 75, 75, 128)       147584    \n",
      "_________________________________________________________________\n",
      "block2_pool (MaxPooling2D)   (None, 37, 37, 128)       0         \n",
      "_________________________________________________________________\n",
      "block3_conv1 (Conv2D)        (None, 37, 37, 256)       295168    \n",
      "_________________________________________________________________\n",
      "block3_conv2 (Conv2D)        (None, 37, 37, 256)       590080    \n",
      "_________________________________________________________________\n",
      "block3_conv3 (Conv2D)        (None, 37, 37, 256)       590080    \n",
      "_________________________________________________________________\n",
      "block3_pool (MaxPooling2D)   (None, 18, 18, 256)       0         \n",
      "_________________________________________________________________\n",
      "block4_conv1 (Conv2D)        (None, 18, 18, 512)       1180160   \n",
      "_________________________________________________________________\n",
      "block4_conv2 (Conv2D)        (None, 18, 18, 512)       2359808   \n",
      "_________________________________________________________________\n",
      "block4_conv3 (Conv2D)        (None, 18, 18, 512)       2359808   \n",
      "_________________________________________________________________\n",
      "block4_pool (MaxPooling2D)   (None, 9, 9, 512)         0         \n",
      "_________________________________________________________________\n",
      "block5_conv1 (Conv2D)        (None, 9, 9, 512)         2359808   \n",
      "_________________________________________________________________\n",
      "block5_conv2 (Conv2D)        (None, 9, 9, 512)         2359808   \n",
      "_________________________________________________________________\n",
      "block5_conv3 (Conv2D)        (None, 9, 9, 512)         2359808   \n",
      "_________________________________________________________________\n",
      "block5_pool (MaxPooling2D)   (None, 4, 4, 512)         0         \n",
      "=================================================================\n",
      "Total params: 14,714,688\n",
      "Trainable params: 14,714,688\n",
      "Non-trainable params: 0\n",
      "_________________________________________________________________\n"
     ]
    }
   ],
   "source": [
    "conv_base.summary()"
   ]
  },
  {
   "cell_type": "markdown",
   "metadata": {},
   "source": [
    "#### 1、不使用数据增强的快速特征提取"
   ]
  },
  {
   "cell_type": "code",
   "execution_count": 4,
   "metadata": {
    "collapsed": true
   },
   "outputs": [],
   "source": [
    "# 使用预训练的卷积基提取特征\n",
    "import os\n",
    "import numpy as np\n",
    "from keras.preprocessing.image import ImageDataGenerator"
   ]
  },
  {
   "cell_type": "code",
   "execution_count": 8,
   "metadata": {},
   "outputs": [
    {
     "name": "stdout",
     "output_type": "stream",
     "text": [
      "Found 2000 images belonging to 2 classes.\n",
      "Found 1000 images belonging to 2 classes.\n",
      "Found 1000 images belonging to 2 classes.\n"
     ]
    }
   ],
   "source": [
    "base_dir='F:\\kaggleDATA\\dogs-vs-cats(new)'\n",
    "train_dir=os.path.join(base_dir,'train')\n",
    "validation_dir=os.path.join(base_dir,'validation')\n",
    "test_dir=os.path.join(base_dir,'test')\n",
    "\n",
    "datagen=ImageDataGenerator(rescale=1/.255)\n",
    "batch_size=20\n",
    "\n",
    "def extract_features(directory,sample_count):\n",
    "    features=np.zeros(shape=(sample_count,4,4,512))\n",
    "    labels=np.zeros(shape=(sample_count))\n",
    "    generator=datagen.flow_from_directory(\n",
    "        directory,\n",
    "        target_size=(150,150),\n",
    "        batch_size=batch_size,\n",
    "        class_mode='binary')\n",
    "    i=0\n",
    "    for inputs_batch,labels_batch in generator:\n",
    "        features_batch=conv_base.predict(inputs_batch)\n",
    "        features[i*batch_size:(i+1)*batch_size]=features_batch\n",
    "        labels[i*batch_size:(i+1)*batch_size]=labels_batch\n",
    "        i+=1\n",
    "        if i*batch_size >= sample_count:\n",
    "            break\n",
    "    return features,labels\n",
    "\n",
    "train_features,train_labels = extract_features(train_dir,2000)\n",
    "validation_features,validation_labels = extract_features(validation_dir,1000)\n",
    "test_features,test_labels = extract_features(test_dir,1000)"
   ]
  },
  {
   "cell_type": "code",
   "execution_count": 9,
   "metadata": {
    "collapsed": true
   },
   "outputs": [],
   "source": [
    "# 将提取的特征形状（samples,4,4,512）展平为（samples，8192）\n",
    "train_features=np.reshape(train_features,(2000,4*4*512))\n",
    "validation_features=np.reshape(validation_features,(1000,4*4*512))\n",
    "test_features=np.reshape(test_features,(1000,4*4*512))"
   ]
  },
  {
   "cell_type": "code",
   "execution_count": 11,
   "metadata": {},
   "outputs": [
    {
     "name": "stdout",
     "output_type": "stream",
     "text": [
      "Train on 2000 samples, validate on 1000 samples\n",
      "Epoch 1/30\n",
      "2000/2000 [==============================] - 8s 4ms/step - loss: 5.6601 - acc: 0.6250 - val_loss: 2.9131 - val_acc: 0.7850\n",
      "Epoch 2/30\n",
      "2000/2000 [==============================] - 6s 3ms/step - loss: 3.9130 - acc: 0.7375 - val_loss: 1.9669 - val_acc: 0.8570\n",
      "Epoch 3/30\n",
      "2000/2000 [==============================] - 6s 3ms/step - loss: 3.0517 - acc: 0.7915 - val_loss: 1.6477 - val_acc: 0.8840\n",
      "Epoch 4/30\n",
      "2000/2000 [==============================] - 6s 3ms/step - loss: 2.7114 - acc: 0.8120 - val_loss: 1.4222 - val_acc: 0.9000\n",
      "Epoch 5/30\n",
      "2000/2000 [==============================] - 6s 3ms/step - loss: 2.1009 - acc: 0.8590 - val_loss: 1.2038 - val_acc: 0.9080\n",
      "Epoch 6/30\n",
      "2000/2000 [==============================] - 6s 3ms/step - loss: 2.0265 - acc: 0.8625 - val_loss: 1.2158 - val_acc: 0.9130\n",
      "Epoch 7/30\n",
      "2000/2000 [==============================] - 6s 3ms/step - loss: 1.8536 - acc: 0.8715 - val_loss: 1.1460 - val_acc: 0.9230\n",
      "Epoch 8/30\n",
      "2000/2000 [==============================] - 6s 3ms/step - loss: 1.6675 - acc: 0.8850 - val_loss: 1.1025 - val_acc: 0.9240\n",
      "Epoch 9/30\n",
      "2000/2000 [==============================] - 6s 3ms/step - loss: 1.5484 - acc: 0.8960 - val_loss: 1.0657 - val_acc: 0.9280\n",
      "Epoch 10/30\n",
      "2000/2000 [==============================] - 7s 4ms/step - loss: 1.5673 - acc: 0.8945 - val_loss: 1.0503 - val_acc: 0.9260\n",
      "Epoch 11/30\n",
      "2000/2000 [==============================] - 6s 3ms/step - loss: 1.5996 - acc: 0.8910 - val_loss: 1.0022 - val_acc: 0.9260\n",
      "Epoch 12/30\n",
      "2000/2000 [==============================] - 6s 3ms/step - loss: 1.5207 - acc: 0.8990 - val_loss: 1.1197 - val_acc: 0.9240\n",
      "Epoch 13/30\n",
      "2000/2000 [==============================] - 6s 3ms/step - loss: 1.4545 - acc: 0.9005 - val_loss: 1.0069 - val_acc: 0.9290\n",
      "Epoch 14/30\n",
      "2000/2000 [==============================] - 6s 3ms/step - loss: 1.2369 - acc: 0.9165 - val_loss: 0.9920 - val_acc: 0.9330\n",
      "Epoch 15/30\n",
      "2000/2000 [==============================] - 6s 3ms/step - loss: 1.1132 - acc: 0.9215 - val_loss: 0.9984 - val_acc: 0.9290\n",
      "Epoch 16/30\n",
      "2000/2000 [==============================] - 7s 3ms/step - loss: 1.0902 - acc: 0.9245 - val_loss: 1.0051 - val_acc: 0.9260\n",
      "Epoch 17/30\n",
      "2000/2000 [==============================] - 7s 4ms/step - loss: 1.1274 - acc: 0.9215 - val_loss: 1.1622 - val_acc: 0.9210\n",
      "Epoch 18/30\n",
      "2000/2000 [==============================] - 7s 4ms/step - loss: 1.2472 - acc: 0.9165 - val_loss: 1.0057 - val_acc: 0.9330\n",
      "Epoch 19/30\n",
      "2000/2000 [==============================] - 7s 4ms/step - loss: 1.0269 - acc: 0.9295 - val_loss: 0.9644 - val_acc: 0.9340\n",
      "Epoch 20/30\n",
      "2000/2000 [==============================] - 6s 3ms/step - loss: 1.0027 - acc: 0.9315 - val_loss: 1.0036 - val_acc: 0.9330\n",
      "Epoch 21/30\n",
      "2000/2000 [==============================] - 6s 3ms/step - loss: 0.9345 - acc: 0.9360 - val_loss: 0.9653 - val_acc: 0.9350\n",
      "Epoch 22/30\n",
      "2000/2000 [==============================] - 6s 3ms/step - loss: 0.9930 - acc: 0.9320 - val_loss: 0.9232 - val_acc: 0.9350\n",
      "Epoch 23/30\n",
      "2000/2000 [==============================] - 6s 3ms/step - loss: 0.9528 - acc: 0.9335 - val_loss: 0.9259 - val_acc: 0.9400\n",
      "Epoch 24/30\n",
      "2000/2000 [==============================] - 6s 3ms/step - loss: 0.7419 - acc: 0.9465 - val_loss: 0.9322 - val_acc: 0.9370\n",
      "Epoch 25/30\n",
      "2000/2000 [==============================] - 6s 3ms/step - loss: 0.8062 - acc: 0.9445 - val_loss: 0.8951 - val_acc: 0.9360\n",
      "Epoch 26/30\n",
      "2000/2000 [==============================] - 7s 3ms/step - loss: 0.8790 - acc: 0.9385 - val_loss: 0.9140 - val_acc: 0.9340\n",
      "Epoch 27/30\n",
      "2000/2000 [==============================] - 7s 4ms/step - loss: 0.9234 - acc: 0.9350 - val_loss: 0.8962 - val_acc: 0.9350\n",
      "Epoch 28/30\n",
      "2000/2000 [==============================] - 7s 3ms/step - loss: 0.7937 - acc: 0.9485 - val_loss: 0.8745 - val_acc: 0.9390\n",
      "Epoch 29/30\n",
      "2000/2000 [==============================] - 7s 4ms/step - loss: 0.7774 - acc: 0.9485 - val_loss: 0.9078 - val_acc: 0.9360\n",
      "Epoch 30/30\n",
      "2000/2000 [==============================] - 7s 3ms/step - loss: 0.7645 - acc: 0.9475 - val_loss: 0.8967 - val_acc: 0.9380\n"
     ]
    }
   ],
   "source": [
    "# 定义并训练密集连接分类器\n",
    "from keras import models\n",
    "from keras import layers\n",
    "from keras import optimizers\n",
    "\n",
    "model=models.Sequential()\n",
    "model.add(layers.Dense(256,activation='relu',input_dim=4*4*512))\n",
    "model.add(layers.Dropout(0.5))\n",
    "model.add(layers.Dense(1,activation='sigmoid'))\n",
    "\n",
    "model.compile(optimizer=optimizers.RMSprop(lr=2e-5),loss='binary_crossentropy',metrics=['acc'])\n",
    "history=model.fit(train_features,train_labels,epochs=30,batch_size=20,validation_data=(validation_features,validation_labels))"
   ]
  },
  {
   "cell_type": "code",
   "execution_count": 13,
   "metadata": {},
   "outputs": [
    {
     "data": {
      "image/png": "[encoded data removed]",
      "text/plain": [
       "<matplotlib.figure.Figure at 0x24009de1a58>"
      ]
     },
     "metadata": {},
     "output_type": "display_data"
    },
    {
     "data": {
      "image/png": "[encoded data removed]",
      "text/plain": [
       "<matplotlib.figure.Figure at 0x2406d2f5a90>"
      ]
     },
     "metadata": {},
     "output_type": "display_data"
    }
   ],
   "source": [
    "import matplotlib.pyplot as plt\n",
    "\n",
    "acc=history.history['acc']\n",
    "val_acc=history.history['val_acc']\n",
    "loss=history.history['loss']\n",
    "val_loss=history.history['val_loss']\n",
    "\n",
    "epochs=range(1,len(acc)+1)\n",
    "\n",
    "plt.plot(epochs,acc,'bo',label='Training acc')\n",
    "plt.plot(epochs,val_acc,'b',label='Validation acc')\n",
    "plt.title('Training and validation accuracy')\n",
    "plt.legend()\n",
    "\n",
    "plt.figure()\n",
    "\n",
    "plt.plot(epochs,loss,'bo',label='Training loss')\n",
    "plt.plot(epochs,val_loss,'b',label='Validation loss')\n",
    "plt.title('Training and validation loss')\n",
    "plt.legend()\n",
    "\n",
    "plt.show()"
   ]
  },
  {
   "cell_type": "markdown",
   "metadata": {},
   "source": [
    "### 2、使用数据增强的特征提取"
   ]
  },
  {
   "cell_type": "code",
   "execution_count": 14,
   "metadata": {
    "collapsed": true
   },
   "outputs": [],
   "source": [
    "# 在卷积基上添加一个密集连接分类器\n",
    "\n",
    "from keras import models\n",
    "from keras import layers\n",
    "\n",
    "model=models.Sequential()\n",
    "model.add(conv_base)\n",
    "model.add(layers.Flatten())\n",
    "model.add(layers.Dense(256,activation='relu'))\n",
    "model.add(layers.Dense(1,activation='sigmoid'))"
   ]
  },
  {
   "cell_type": "code",
   "execution_count": 15,
   "metadata": {},
   "outputs": [
    {
     "name": "stdout",
     "output_type": "stream",
     "text": [
      "_________________________________________________________________\n",
      "Layer (type)                 Output Shape              Param #   \n",
      "=================================================================\n",
      "vgg16 (Model)                (None, 4, 4, 512)         14714688  \n",
      "_________________________________________________________________\n",
      "flatten_1 (Flatten)          (None, 8192)              0         \n",
      "_________________________________________________________________\n",
      "dense_3 (Dense)              (None, 256)               2097408   \n",
      "_________________________________________________________________\n",
      "dense_4 (Dense)              (None, 1)                 257       \n",
      "=================================================================\n",
      "Total params: 16,812,353\n",
      "Trainable params: 16,812,353\n",
      "Non-trainable params: 0\n",
      "_________________________________________________________________\n"
     ]
    }
   ],
   "source": [
    "model.summary()"
   ]
  },
  {
   "cell_type": "markdown",
   "metadata": {},
   "source": [
    "##### VGG16的卷积基有14714688个参数，非常多，在其上添加的分类器有200万个参数\n",
    "##### 因此在编译和训练模型之前，一定要‘冻结’卷积基。\n",
    "##### 冻结一个或多个层是指在训练过程中保持其权重不变。如果不那么做，那么卷积基之前学到的表示将会在训练过程中被修改。"
   ]
  },
  {
   "cell_type": "code",
   "execution_count": 16,
   "metadata": {},
   "outputs": [
    {
     "name": "stdout",
     "output_type": "stream",
     "text": [
      "This is the number of trainable weights before freezing the conv base: 30\n"
     ]
    }
   ],
   "source": [
    "print('This is the number of trainable weights '\n",
    "      'before freezing the conv base:', len(model.trainable_weights))"
   ]
  },
  {
   "cell_type": "code",
   "execution_count": 17,
   "metadata": {
    "collapsed": true
   },
   "outputs": [],
   "source": [
    "# 冻结的方法\n",
    "conv_base.trainable = False"
   ]
  },
  {
   "cell_type": "code",
   "execution_count": 18,
   "metadata": {},
   "outputs": [
    {
     "name": "stdout",
     "output_type": "stream",
     "text": [
      "This is the number of trainable weights after freezing the conv base: 4\n"
     ]
    }
   ],
   "source": [
    "print('This is the number of trainable weights '\n",
    "      'after freezing the conv base:', len(model.trainable_weights))"
   ]
  },
  {
   "cell_type": "code",
   "execution_count": null,
   "metadata": {
    "collapsed": true
   },
   "outputs": [],
   "source": [
    "# 由于此段代码运行时间过长，所以本段代码不进行运行\n",
    "from keras.preprocessing.image import ImageDataGenerator\n",
    "\n",
    "train_datagen = ImageDataGenerator(\n",
    "      rescale=1./255,\n",
    "      rotation_range=40,\n",
    "      width_shift_range=0.2,\n",
    "      height_shift_range=0.2,\n",
    "      shear_range=0.2,\n",
    "      zoom_range=0.2,\n",
    "      horizontal_flip=True,\n",
    "      fill_mode='nearest')\n",
    "\n",
    "# Note that the validation data should not be augmented!\n",
    "test_datagen = ImageDataGenerator(rescale=1./255)\n",
    "\n",
    "train_generator = train_datagen.flow_from_directory(\n",
    "        # This is the target directory\n",
    "        train_dir,\n",
    "        # All images will be resized to 150x150\n",
    "        target_size=(150, 150),\n",
    "        batch_size=20,\n",
    "        # Since we use binary_crossentropy loss, we need binary labels\n",
    "        class_mode='binary')\n",
    "\n",
    "validation_generator = test_datagen.flow_from_directory(\n",
    "        validation_dir,\n",
    "        target_size=(150, 150),\n",
    "        batch_size=20,\n",
    "        class_mode='binary')\n",
    "\n",
    "model.compile(loss='binary_crossentropy',\n",
    "              optimizer=optimizers.RMSprop(lr=2e-5),\n",
    "              metrics=['acc'])\n",
    "\n",
    "history = model.fit_generator(\n",
    "      train_generator,\n",
    "      steps_per_epoch=100,\n",
    "      epochs=30,\n",
    "      validation_data=validation_generator,\n",
    "      validation_steps=50,\n",
    "      verbose=2)"
   ]
  },
  {
   "cell_type": "code",
   "execution_count": 20,
   "metadata": {
    "collapsed": true
   },
   "outputs": [],
   "source": [
    "model.save('cats_and_dogs_small_3.h5')"
   ]
  },
  {
   "cell_type": "markdown",
   "metadata": {},
   "source": [
    "### 5.3.2 微调模型-与特征提取互为补充"
   ]
  },
  {
   "cell_type": "markdown",
   "metadata": {},
   "source": [
    "对于特征提取的冻结的模型基，微调是指将其顶部的几层“解冻”，并将这解冻的几层和新增加的部分联合训练。"
   ]
  },
  {
   "cell_type": "markdown",
   "metadata": {},
   "source": [
    "#### 微调网络的步骤"
   ]
  },
  {
   "cell_type": "markdown",
   "metadata": {},
   "source": [
    "##### （1）在已训练好的基网络上添加自定义网络"
   ]
  },
  {
   "cell_type": "markdown",
   "metadata": {},
   "source": [
    "##### （2）冻结基网络"
   ]
  },
  {
   "cell_type": "markdown",
   "metadata": {},
   "source": [
    "##### （3）训练所添加的部分"
   ]
  },
  {
   "cell_type": "markdown",
   "metadata": {},
   "source": [
    "##### （4）解冻及网络的一些层"
   ]
  },
  {
   "cell_type": "markdown",
   "metadata": {},
   "source": [
    "##### （5）联合训练解冻的这些层和添加的部分"
   ]
  },
  {
   "cell_type": "code",
   "execution_count": 21,
   "metadata": {},
   "outputs": [
    {
     "name": "stdout",
     "output_type": "stream",
     "text": [
      "_________________________________________________________________\n",
      "Layer (type)                 Output Shape              Param #   \n",
      "=================================================================\n",
      "input_1 (InputLayer)         (None, 150, 150, 3)       0         \n",
      "_________________________________________________________________\n",
      "block1_conv1 (Conv2D)        (None, 150, 150, 64)      1792      \n",
      "_________________________________________________________________\n",
      "block1_conv2 (Conv2D)        (None, 150, 150, 64)      36928     \n",
      "_________________________________________________________________\n",
      "block1_pool (MaxPooling2D)   (None, 75, 75, 64)        0         \n",
      "_________________________________________________________________\n",
      "block2_conv1 (Conv2D)        (None, 75, 75, 128)       73856     \n",
      "_________________________________________________________________\n",
      "block2_conv2 (Conv2D)        (None, 75, 75, 128)       147584    \n",
      "_________________________________________________________________\n",
      "block2_pool (MaxPooling2D)   (None, 37, 37, 128)       0         \n",
      "_________________________________________________________________\n",
      "block3_conv1 (Conv2D)        (None, 37, 37, 256)       295168    \n",
      "_________________________________________________________________\n",
      "block3_conv2 (Conv2D)        (None, 37, 37, 256)       590080    \n",
      "_________________________________________________________________\n",
      "block3_conv3 (Conv2D)        (None, 37, 37, 256)       590080    \n",
      "_________________________________________________________________\n",
      "block3_pool (MaxPooling2D)   (None, 18, 18, 256)       0         \n",
      "_________________________________________________________________\n",
      "block4_conv1 (Conv2D)        (None, 18, 18, 512)       1180160   \n",
      "_________________________________________________________________\n",
      "block4_conv2 (Conv2D)        (None, 18, 18, 512)       2359808   \n",
      "_________________________________________________________________\n",
      "block4_conv3 (Conv2D)        (None, 18, 18, 512)       2359808   \n",
      "_________________________________________________________________\n",
      "block4_pool (MaxPooling2D)   (None, 9, 9, 512)         0         \n",
      "_________________________________________________________________\n",
      "block5_conv1 (Conv2D)        (None, 9, 9, 512)         2359808   \n",
      "_________________________________________________________________\n",
      "block5_conv2 (Conv2D)        (None, 9, 9, 512)         2359808   \n",
      "_________________________________________________________________\n",
      "block5_conv3 (Conv2D)        (None, 9, 9, 512)         2359808   \n",
      "_________________________________________________________________\n",
      "block5_pool (MaxPooling2D)   (None, 4, 4, 512)         0         \n",
      "=================================================================\n",
      "Total params: 14,714,688\n",
      "Trainable params: 0\n",
      "Non-trainable params: 14,714,688\n",
      "_________________________________________________________________\n"
     ]
    }
   ],
   "source": [
    "conv_base.summary()"
   ]
  },
  {
   "cell_type": "markdown",
   "metadata": {},
   "source": [
    "我们将微调最后三个卷积层，也就是直到block4_pool的所有层都应该被冻结，而block5_conv1\\2\\3三个层应该是可训练的。"
   ]
  },
  {
   "cell_type": "code",
   "execution_count": 22,
   "metadata": {
    "collapsed": true
   },
   "outputs": [],
   "source": [
    "# 冻结直到某一层的所有层\n",
    "conv_base.trainable=True\n",
    "\n",
    "set_trainable=False\n",
    "for layer in conv_base.layers:\n",
    "    if layer.name=='block5_conv1':\n",
    "        set_trainable=True\n",
    "    if set_trainable:\n",
    "        layer.trainable=True\n",
    "    else:\n",
    "        layer.trainable=False"
   ]
  },
  {
   "cell_type": "code",
   "execution_count": null,
   "metadata": {
    "collapsed": true
   },
   "outputs": [],
   "source": [
    "# 模型微调\n",
    "model.compile(loss='binary_crossentropy',optimizer=optimizers.RMSprop(lr=1e-5),metrics=['acc'])\n",
    "\n",
    "history=model.fit_generator(\n",
    "    train_generator,\n",
    "    steps_per_epoch=100,\n",
    "    epochs=100,\n",
    "    validation_data=validation_generator,\n",
    "    validation_steps=50\n",
    ")"
   ]
  },
  {
   "cell_type": "markdown",
   "metadata": {},
   "source": [
    "## 小结："
   ]
  },
  {
   "cell_type": "markdown",
   "metadata": {},
   "source": [
    "### 1、卷积神经网络是用于计算机视觉任务的最佳机器学习模型。即使在非常小的数据集上也可以从头训练一个卷积神经网络，而且得到的结果还不错。"
   ]
  },
  {
   "cell_type": "markdown",
   "metadata": {},
   "source": [
    "### 2、在小型数据集上的主要问题是过拟合。在处理图像数据时，数据增强是一种降低过拟合的强大方法。"
   ]
  },
  {
   "cell_type": "markdown",
   "metadata": {},
   "source": [
    "### 3、利用特征提取，可以很容易将现有的卷积神经网络复用于新的数据集。对于小型图像数据集，这是一种很有价值的方法。"
   ]
  },
  {
   "cell_type": "markdown",
   "metadata": {},
   "source": [
    "### 4、作为特征提取的补充，你还可以使用微调，将现有模型之前学到的一些数据表示应用于新问题。这种方法可以进一步提高模型性能。"
   ]
  },
  {
   "cell_type": "code",
   "execution_count": null,
   "metadata": {
    "collapsed": true
   },
   "outputs": [],
   "source": []
  }
 ],
 "metadata": {
  "kernelspec": {
   "display_name": "Python 3",
   "language": "python",
   "name": "python3"
  },
  "language_info": {
   "codemirror_mode": {
    "name": "ipython",
    "version": 3
   },
   "file_extension": ".py",
   "mimetype": "text/x-python",
   "name": "python",
   "nbconvert_exporter": "python",
   "pygments_lexer": "ipython3",
   "version": "3.6.1"
  }
 },
 "nbformat": 4,
 "nbformat_minor": 2
}
